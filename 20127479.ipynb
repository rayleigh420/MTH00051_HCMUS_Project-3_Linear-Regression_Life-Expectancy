{
  "cells": [
    {
      "cell_type": "markdown",
      "metadata": {
        "id": "xc8agmVsHmj6"
      },
      "source": [
        "# <center>Đồ án 3: Linear Regression</center>"
      ]
    },
    {
      "cell_type": "markdown",
      "metadata": {
        "id": "vQ9bx1UQHmkF"
      },
      "source": [
        "# Thông tin sinh viên\n",
        "\n",
        "- Họ và tên: Lê Nhất Duy\n",
        "- MSSV: 20127479\n",
        "- Lớp: 20CLC08"
      ]
    },
    {
      "cell_type": "markdown",
      "metadata": {
        "id": "N5jV3aLpHmkH"
      },
      "source": [
        "# Import"
      ]
    },
    {
      "cell_type": "code",
      "execution_count": 64,
      "metadata": {
        "id": "ccGCW5c2HmkI"
      },
      "outputs": [],
      "source": [
        "import pandas as pd\n",
        "import numpy as np\n",
        "import math\n",
        "\n",
        "from sklearn.linear_model import LinearRegression\n",
        "from sklearn.model_selection import cross_val_score\n",
        "from sklearn.metrics import mean_squared_error"
      ]
    },
    {
      "cell_type": "markdown",
      "metadata": {
        "id": "KsRvuIIqHmkK"
      },
      "source": [
        "# Đọc dữ liệu"
      ]
    },
    {
      "cell_type": "code",
      "execution_count": 65,
      "metadata": {
        "id": "s06j835oHmkK"
      },
      "outputs": [],
      "source": [
        "# Đọc dữ liệu bằng pandas\n",
        "train = pd.read_csv('train.csv')\n",
        "test = pd.read_csv('test.csv')\n",
        "\n",
        "# Lấy các đặc trưng X và giá trị mục tiêu y cho các tập huấn luyện (train) và kiểm tra (test)\n",
        "X_train = train.iloc[:, :-1]    # Dataframe (chứa 10 đặc trưng huấn luyện)\n",
        "y_train = train.iloc[:, -1]     # Series    (chứa 1 giá trị mục tiêu kiểm tra)\n",
        "\n",
        "X_test = test.iloc[:, :-1]      # Dataframe (chứa 10 đặc trưng kiểm tra)\n",
        "y_test = test.iloc[:, -1]       # Series    (chứa 1 giá trị mục tiêu kiểm tra)\n",
        "\n",
        "# Sinh viên có thể sử dụng các khác nếu cần"
      ]
    },
    {
      "cell_type": "markdown",
      "metadata": {
        "id": "3XtjiOXSHmkL"
      },
      "source": [
        "# Cài đặt hàm"
      ]
    },
    {
      "cell_type": "markdown",
      "metadata": {
        "id": "D3wwhB5wHmkN"
      },
      "source": [
        "# Yêu cầu 1a: Sử dụng toàn bộ 10 đặc trưng đề bài cung cấp (2 điểm) "
      ]
    },
    {
      "cell_type": "code",
      "source": [
        "# Phần code cho yêu cầu 1a\n",
        "train1 = pd.read_csv('train.csv')\n",
        "test1 = pd.read_csv('test.csv')\n",
        "\n",
        "reg1 = LinearRegression().fit(train1.iloc[:, :-1], train1.iloc[:, -1])\n",
        "\n",
        "y_test_pred = reg1.predict(test1.iloc[:, :-1])\n",
        "prediction = pd.DataFrame({'Actual': test1.iloc[:, -1], 'Predicted': y_test_pred})\n",
        "print(prediction)\n",
        "\n",
        "coef = pd.DataFrame({'Feature': train1.iloc[:, :-1].columns, 'Coefficient': reg1.coef_})\n",
        "print(coef)"
      ],
      "metadata": {
        "id": "0GzeTHLBqPOF"
      },
      "execution_count": null,
      "outputs": []
    },
    {
      "cell_type": "code",
      "execution_count": null,
      "metadata": {
        "id": "FSlSXoxTHmkP"
      },
      "outputs": [],
      "source": [
        "# Gọi hàm RMSE (tự cài đặt hoặc từ thư viện) trên tập kiểm tra\n",
        "print(\"RMSE: \", math.sqrt(mean_squared_error(test.iloc[:, -1], y_test_pred)))"
      ]
    },
    {
      "cell_type": "markdown",
      "metadata": {
        "id": "LzqmbERJHmkP"
      },
      "source": [
        "Công thức hồi quy\n",
        "\n",
        "$$\\begin{array}{l}\n",
        "\\text{Life expectancy} =  - 0.016674.Adult{\\rm{ }}Mortality + 0.045724.BMI + 0.001458.Polio + 0.025288.Diphtheria\\\\\n",
        "\\,\\,\\,\\,\\,\\,\\,\\,\\,\\,\\,\\,\\,\\,\\,\\,\\,\\,\\,\\,\\,\\,\\,\\,\\,\\,\\,\\,\\,\\,\\,\\,\\,\\,\\,\\,\\,\\,\\, +  - 0.498039.HIV/AIDS + 0.000063.GDP +  - 0.040337.Thinness{\\rm{ }}age{\\rm{ }}10 - 19\\\\\n",
        "\\,\\,\\,\\,\\,\\,\\,\\,\\,\\,\\,\\,\\,\\,\\,\\,\\,\\,\\,\\,\\,\\,\\,\\,\\,\\,\\,\\,\\,\\,\\,\\,\\,\\,\\,\\,\\,\\,\\, +  - 0.056481.Thinness{\\rm{ }}age{\\rm{ }}5 - 9 + 12.705896.Income{\\rm{ }}composition{\\rm{ }}of{\\rm{ }}resources + 0.707695.Schooling\n",
        "\\end{array}$$"
      ]
    },
    {
      "cell_type": "markdown",
      "metadata": {
        "id": "8_51WOIJHmkQ"
      },
      "source": [
        "# Yêu cầu 1b: Xây dựng mô hình sử dụng duy nhất 1 đặc trưng, tìm mô hình cho kết quả tốt nhất (2 điểm)"
      ]
    },
    {
      "cell_type": "markdown",
      "metadata": {
        "id": "zPWovzyOHmkR"
      },
      "source": [
        "Lưu ý: khi sử dụng cross-validation, sinh viên cần xáo trộn dữ liệu 1 lần duy nhất và thực hiện trên toàn bộ đặc trưng"
      ]
    },
    {
      "cell_type": "code",
      "execution_count": null,
      "metadata": {
        "id": "zXHfLHVtHmkR"
      },
      "outputs": [],
      "source": [
        "# Phần code cho yêu cầu 1b\n",
        "# Tìm ra đặc trưng tốt nhất\n",
        "# In ra các kết quả cross-validation như yêu cầu\n",
        "\n",
        "train_f = pd.read_csv('train.csv')\n",
        "train_f = train_f.sample(frac=1)\n",
        "y_df = train_f.iloc[:, -1]\n",
        "\n",
        "reg = LinearRegression()\n",
        "\n",
        "# Split feature columns and append to an array\n",
        "feature = []\n",
        "for i in range(10):\n",
        "  feature.append(train_f.iloc[:, i].values.reshape(-1, 1))\n",
        "\n",
        "# Calculate scrores(mse) and append to an array\n",
        "name = train_f.columns\n",
        "scores = []\n",
        "cross = []\n",
        "for i in range(10):\n",
        "  scores.append(cross_val_score(reg, feature[i], y_df, scoring=\"neg_mean_squared_error\", cv=5))\n",
        "\n",
        "# Calculate RMSE and append to an array\n",
        "RMSE = []\n",
        "for i in range(10):\n",
        "  RMSE.append(np.sqrt(np.absolute(scores[i])).mean())\n",
        "  cross.append([name[i], RMSE[i]])\n",
        "\n",
        "test = pd.DataFrame(cross, columns=['Feature','Average RMSE'])\n",
        "print(test)\n",
        "print()\n",
        "\n",
        "best_index = np.argmin(RMSE)\n",
        "print(\"Min average RMSE is: \", name[best_index], \"(\", RMSE[best_index], \")\")"
      ]
    },
    {
      "cell_type": "code",
      "execution_count": null,
      "metadata": {
        "id": "HFUJc1dOHmkS"
      },
      "outputs": [],
      "source": [
        "# Huấn luyện lại mô hình best_feature_model với đặc trưng tốt nhất trên toàn bộ tập huấn luyện\n",
        "train2 = pd.read_csv('train.csv')\n",
        "test2 = pd.read_csv('test.csv')\n",
        "\n",
        "X_k_train = train2.iloc[:, best_index:best_index+1]\n",
        "y_k_train = train2.iloc[:, -1]\n",
        "\n",
        "X_k_test = test2.iloc[:, best_index:best_index+1]\n",
        "y_k_test = test2.iloc[:, -1]\n",
        "\n",
        "reg2 = LinearRegression().fit(X_k_train, y_k_train)\n",
        "\n",
        "y_k_test_pred = reg2.predict(X_k_test)\n",
        "\n",
        "k_prediction = pd.DataFrame({'Actual': y_k_test, 'Predicted': y_k_test_pred})\n",
        "print(k_prediction)\n",
        "\n",
        "k_coef = pd.DataFrame({'Feature': name[best_index], 'Coefficient': reg2.coef_})\n",
        "print(k_coef)"
      ]
    },
    {
      "cell_type": "code",
      "execution_count": null,
      "metadata": {
        "id": "NZ9J2884HmkT"
      },
      "outputs": [],
      "source": [
        "# Gọi hàm RMSE (tự cài đặt hoặc từ thư viện) trên tập kiểm tra với mô hình best_feature_model\n",
        "print(\"RMSE: \", math.sqrt(mean_squared_error(y_k_test, y_k_test_pred)))"
      ]
    },
    {
      "cell_type": "markdown",
      "metadata": {
        "id": "9-5phsRDHmkT"
      },
      "source": [
        "Công thức hồi quy\n",
        "\n",
        "$$\\text{Life expectancy} = 39.497808.Income{\\rm{ }}composition{\\rm{ }}of{\\rm{ }}resources$$"
      ]
    },
    {
      "cell_type": "markdown",
      "metadata": {
        "id": "1PpIiaUpHmkU"
      },
      "source": [
        "# Yêu cầu 1c: Sinh viên tự xây dựng mô hình, tìm mô hình cho kết quả tốt nhất (3 điểm)"
      ]
    },
    {
      "cell_type": "markdown",
      "metadata": {
        "id": "7ou_cx5sHmkU"
      },
      "source": [
        "Lưu ý: khi sử dụng cross-validation, sinh viên cần xáo trộn dữ liệu 1 lần duy nhất và thực hiện trên toàn bộ $m$ mô hình mà sinh viên thiết kế"
      ]
    },
    {
      "cell_type": "code",
      "source": [
        "train_corr = pd.read_csv('train.csv')\n",
        "correlations = train_corr.corr()\n",
        "print(correlations)"
      ],
      "metadata": {
        "id": "7VI7DWv6ugG6"
      },
      "execution_count": null,
      "outputs": []
    },
    {
      "cell_type": "code",
      "source": [
        "correlations_2 = train_corr.corr()['Life expectancy'].drop('Life expectancy')\n",
        "print(correlations_2)"
      ],
      "metadata": {
        "id": "xEII2v-xW3RM"
      },
      "execution_count": null,
      "outputs": []
    },
    {
      "cell_type": "markdown",
      "source": [
        "## Test cho một số mô hình"
      ],
      "metadata": {
        "id": "G8cX66uiwZlV"
      }
    },
    {
      "cell_type": "markdown",
      "source": [
        "Để so sánh việc chuẩn hóa các đặc trưng ở phần code chính là tốt hay xấu, ta cần một kết quả riêng với mô hình mà các đặc trưng không được chuẩn hóa."
      ],
      "metadata": {
        "id": "uajy1XOdXDWW"
      }
    },
    {
      "cell_type": "code",
      "source": [
        "train_test = pd.read_csv('train.csv')\n",
        "train_test = train_test.sample(frac=1)"
      ],
      "metadata": {
        "id": "tnZMKvsnNhZw"
      },
      "execution_count": 73,
      "outputs": []
    },
    {
      "cell_type": "markdown",
      "source": [
        "### Thử nghiệm chuẩn hóa để xem chiều thuận nghịch của đặc trưng"
      ],
      "metadata": {
        "id": "e5x-sFPvQEME"
      }
    },
    {
      "cell_type": "code",
      "source": [
        "train_test_4 = train_test.copy()\n",
        "feature = feature = ['Adult Mortality', 'BMI', 'Polio', 'Diphtheria', 'HIV/AIDS', 'GDP', 'Thinness age 10-19', 'Thinness age 5-9', 'Income composition of resources', 'Schooling']\n",
        "X_test_org = train_test_4[feature].copy()\n",
        "X_test_4 = train_test_4[feature].copy()\n",
        "y_test_4 = train_test_4.iloc[:, -1].copy()\n",
        "\n",
        "rg_test_4 = LinearRegression()\n",
        "scores_test_4 = cross_val_score(rg_test_4, X_test_4, y_test_4, cv=5, scoring='neg_mean_squared_error')\n",
        "print(\"Average RMSE (none norm): \", np.sqrt(np.absolute(scores_test_4)).mean())\n",
        "\n",
        "X_test_4.iloc[:, 0:1] = (X_test_org.iloc[:, 0:1] ** 1.1).copy()\n",
        "rg_test_4 = LinearRegression()\n",
        "scores_test_4 = cross_val_score(rg_test_4, X_test_4, y_test_4, cv=5, scoring='neg_mean_squared_error')\n",
        "print(\"Average RMSE (Adult Mortality power 1.1): \", np.sqrt(np.absolute(scores_test_4)).mean())\n",
        "\n",
        "X_test_4.iloc[:, 0:1] = (X_test_org.iloc[:, 0:1] ** 1.3).copy()\n",
        "rg_test_4 = LinearRegression()\n",
        "scores_test_4 = cross_val_score(rg_test_4, X_test_4, y_test_4, cv=5, scoring='neg_mean_squared_error')\n",
        "print(\"Average RMSE (Adult Mortality power 1.3): \", np.sqrt(np.absolute(scores_test_4)).mean())\n",
        "\n",
        "X_test_4.iloc[:, 1:2] = (X_test_org.iloc[:, 1:2] ** 2).copy()\n",
        "rg_test_4 = LinearRegression()\n",
        "scores_test_4 = cross_val_score(rg_test_4, X_test_4, y_test_4, cv=5, scoring='neg_mean_squared_error')\n",
        "print(\"Average RMSE (BMI power 2): \", np.sqrt(np.absolute(scores_test_4)).mean())\n",
        "\n",
        "X_test_4.iloc[:, 3:4] = (X_test_org.iloc[:, 3:4] ** 3).copy()\n",
        "rg_test_4 = LinearRegression()\n",
        "scores_test_4 = cross_val_score(rg_test_4, X_test_4, y_test_4, cv=5, scoring='neg_mean_squared_error')\n",
        "print(\"Average RMSE (Diphtheria power 3): \", np.sqrt(np.absolute(scores_test_4)).mean())\n",
        "\n",
        "X_test_4.iloc[:, 4:5] = (X_test_org.iloc[:, 4:5] ** 0.5).copy()\n",
        "rg_test_4 = LinearRegression()\n",
        "scores_test_4 = cross_val_score(rg_test_4, X_test_4, y_test_4, cv=5, scoring='neg_mean_squared_error')\n",
        "print(\"Average RMSE (HIV/AIDS power 0.5): \", np.sqrt(np.absolute(scores_test_4)).mean())\n",
        "\n",
        "X_test_4.iloc[:, 5:6] = (X_test_org.iloc[:, 5:6] ** 0.5).copy()\n",
        "rg_test_4 = LinearRegression()\n",
        "scores_test_4 = cross_val_score(rg_test_4, X_test_4, y_test_4, cv=5, scoring='neg_mean_squared_error')\n",
        "print(\"Average RMSE (GDP power 0.5): \", np.sqrt(np.absolute(scores_test_4)).mean())\n",
        "\n",
        "X_test_4.iloc[:, 8:9] = ((X_test_org.iloc[:, 8:9] * 10) ** 2).copy()\n",
        "rg_test_4 = LinearRegression()\n",
        "scores_test_4 = cross_val_score(rg_test_4, X_test_4, y_test_4, cv=5, scoring='neg_mean_squared_error')\n",
        "print(\"Average RMSE (Income.. * 10 power 0.5): \", np.sqrt(np.absolute(scores_test_4)).mean())\n",
        "\n",
        "X_test_4.iloc[:, 9:10] = (X_test_org.iloc[:, 9:10] ** 0.5).copy()\n",
        "rg_test_4 = LinearRegression()\n",
        "scores_test_4 = cross_val_score(rg_test_4, X_test_4, y_test_4, cv=5, scoring='neg_mean_squared_error')\n",
        "print(\"Average RMSE (sSchooling power 0.5): \", np.sqrt(np.absolute(scores_test_4)).mean())"
      ],
      "metadata": {
        "id": "5D1IRT0_QJLi"
      },
      "execution_count": null,
      "outputs": []
    },
    {
      "cell_type": "markdown",
      "source": [
        "### Sử dụng 5-Fold Cross Validation để test với tất cả đặc trưng (không chuẩn hóa)"
      ],
      "metadata": {
        "id": "LT_7A0kYvkev"
      }
    },
    {
      "cell_type": "code",
      "source": [
        "train_test_1 = train_test.copy()\n",
        "feature = ['Adult Mortality', 'BMI', 'Polio', 'Diphtheria', 'HIV/AIDS', 'GDP', 'Thinness age 10-19', 'Thinness age 5-9', 'Income composition of resources', 'Schooling']\n",
        "X_test_1 = train_test_1[feature]\n",
        "y_test_1 = train_test_1.iloc[:, -1]\n",
        "\n",
        "rg_test_1 = LinearRegression()\n",
        "scores_test_1 = cross_val_score(rg_test_1, X_test_1, y_test_1, cv=5, scoring='neg_mean_squared_error')\n",
        "print(\"Average RMSE(none norm): \", np.sqrt(np.absolute(scores_test_1)).mean())"
      ],
      "metadata": {
        "id": "C7fs4Bhhvj-P"
      },
      "execution_count": null,
      "outputs": []
    },
    {
      "cell_type": "markdown",
      "source": [
        "### Sử dụng 5-Fold Cross Validation để test với các đặc trưng: 'Adult Mortality', 'BMI', 'Diphtheria', 'HIV/AIDS', 'GDP', 'Income composition of resources', 'Schooling' (không chuẩn hóa)"
      ],
      "metadata": {
        "id": "zDzSFkZbw4OU"
      }
    },
    {
      "cell_type": "code",
      "source": [
        "train_test_2 = train_test.copy()\n",
        "feature = ['Adult Mortality', 'BMI', 'Diphtheria', 'HIV/AIDS', 'GDP', 'Income composition of resources', 'Schooling']\n",
        "X_test_2 = train_test_2[feature]\n",
        "y_test_2 = train_test_2.iloc[:, -1]\n",
        "\n",
        "rg_test_2 = LinearRegression()\n",
        "scores_test_2 = cross_val_score(rg_test_2, X_test_2, y_test_2, cv=5, scoring='neg_mean_squared_error')\n",
        "print(\"Average RMSE (none norm): \", np.sqrt(np.absolute(scores_test_2)).mean())"
      ],
      "metadata": {
        "id": "HaluYS5VYxB9"
      },
      "execution_count": null,
      "outputs": []
    },
    {
      "cell_type": "markdown",
      "source": [
        "### Sử dụng 5-Fold Cross Validation để test với các đặc trưng: 'Adult Mortality', 'BMI', 'HIV/AIDS', 'Income composition of resources' (không chuẩn hóa)"
      ],
      "metadata": {
        "id": "4zS-itXcYyEp"
      }
    },
    {
      "cell_type": "code",
      "source": [
        "train_test_3 = train_test.copy()\n",
        "feature = ['Adult Mortality', 'BMI', 'HIV/AIDS', 'Income composition of resources']\n",
        "X_test_3 = train_test_3[feature]\n",
        "y_test_3 = train_test_3.iloc[:, -1]\n",
        "\n",
        "rg_test_3 = LinearRegression()\n",
        "scores_test_3 = cross_val_score(rg_test_3, X_test_3, y_test_3, cv=5, scoring='neg_mean_squared_error')\n",
        "print(\"Average RMSE (none norm): \", np.sqrt(np.absolute(scores_test_3)).mean())"
      ],
      "metadata": {
        "id": "641B1XjSY5O8"
      },
      "execution_count": null,
      "outputs": []
    },
    {
      "cell_type": "markdown",
      "source": [
        "## Code chính"
      ],
      "metadata": {
        "id": "YbAH5BQEzvcu"
      }
    },
    {
      "cell_type": "code",
      "source": [
        "train_3 = pd.read_csv('train.csv')\n",
        "train_3 = train_3.sample(frac=1)\n",
        "\n",
        "model = ['Use 10 features', 'Use 7 features', 'Use 4 features']\n",
        "ARMSE = []"
      ],
      "metadata": {
        "id": "NpqoXsqfz0eC"
      },
      "execution_count": 78,
      "outputs": []
    },
    {
      "cell_type": "code",
      "source": [
        "# 1st model\n",
        "train_3_1 = train_3.copy()\n",
        "feature = ['Adult Mortality', 'BMI', 'Polio', 'Diphtheria', 'HIV/AIDS', 'GDP', 'Thinness age 10-19', 'Thinness age 5-9', 'Income composition of resources', 'Schooling']\n",
        "X_train_1 = train_3_1[feature].copy()\n",
        "y_train_1 = train_3_1.iloc[:, -1].copy()\n",
        "\n",
        "X_train_1.iloc[:, 0:1] = (X_train_1.iloc[:, 0:1] ** 2).copy()\n",
        "X_train_1.iloc[:, 1:2] = (X_train_1.iloc[:, 1:2] ** 2).copy()\n",
        "X_train_1.iloc[:, 2:3] = (X_train_1.iloc[:, 2:3]).copy()\n",
        "X_train_1.iloc[:, 3:4] = (X_train_1.iloc[:, 3:4] ** 3).copy()\n",
        "X_train_1.iloc[:, 4:5] = (X_train_1.iloc[:, 4:5] ** 0.5).copy()\n",
        "X_train_1.iloc[:, 5:6] = (X_train_1.iloc[:, 5:6]).copy()\n",
        "X_train_1.iloc[:, 6:7] = (X_train_1.iloc[:, 6:7]).copy()\n",
        "X_train_1.iloc[:, 7:8] = (X_train_1.iloc[:, 7:8]).copy()\n",
        "X_train_1.iloc[:, 8:9] = ((X_train_1.iloc[:, 8:9] * 10) ** 2).copy()\n",
        "X_train_1.iloc[:, 9:10] = (X_train_1.iloc[:, 9:10] ** 0.5).copy()\n",
        "\n",
        "rg_3_1 = LinearRegression()\n",
        "scores_3_1 = cross_val_score(rg_3_1, X_train_1, y_train_1, cv=5, scoring='neg_mean_squared_error')\n",
        "# print(\"Average RMSE: \", np.sqrt(-scores_3_1).mean())\n",
        "ARMSE.append(np.sqrt(np.absolute(scores_3_1)).mean())"
      ],
      "metadata": {
        "id": "0CXyb1Vzz_fz"
      },
      "execution_count": 79,
      "outputs": []
    },
    {
      "cell_type": "code",
      "source": [
        "# 2st model\n",
        "train_3_2 = train_3.copy()\n",
        "feature = ['Adult Mortality', 'BMI', 'Diphtheria', 'HIV/AIDS', 'GDP', 'Income composition of resources', 'Schooling']\n",
        "X_train_2 = train_3_2[feature].copy()\n",
        "y_train_2 = train_3_2.iloc[:, -1].copy()\n",
        "\n",
        "X_train_2.iloc[:, 0:1] = (X_train_2.iloc[:, 0:1] ** 2).copy()\n",
        "X_train_2.iloc[:, 1:2] = (X_train_2.iloc[:, 1:2] ** 2).copy()\n",
        "X_train_2.iloc[:, 4:5] = (X_train_2.iloc[:, 4:5] ** 3).copy()\n",
        "X_train_2.iloc[:, 3:4] = (X_train_2.iloc[:, 3:4] ** 0.5).copy()\n",
        "X_train_2.iloc[:, 4:5] = (X_train_2.iloc[:, 4:5] ** 0.25).copy()\n",
        "X_train_2.iloc[:, 5:6] = ((X_train_2.iloc[:, 5:6] * 10) ** 2).copy()\n",
        "X_train_2.iloc[:, 6:7] = (X_train_2.iloc[:, 6:7] ** 0.5).copy()\n",
        "\n",
        "rg_3_2 = LinearRegression()\n",
        "scores_3_2 = cross_val_score(rg_3_2, X_train_2, y_train_2, cv=5, scoring='neg_mean_squared_error')\n",
        "# print(\"Average RMSE: \", np.sqrt(-scores_3_2).mean())\n",
        "ARMSE.append(np.sqrt(np.absolute(scores_3_2)).mean())"
      ],
      "metadata": {
        "id": "ULSYY0ITSnuM"
      },
      "execution_count": 80,
      "outputs": []
    },
    {
      "cell_type": "code",
      "source": [
        "# 3st model\n",
        "train_3_3 = train_3.copy()\n",
        "feature = ['Adult Mortality', 'BMI', 'HIV/AIDS', 'Income composition of resources']\n",
        "X_train_3 = train_3_3[feature].copy()\n",
        "y_train_3 = train_3_3.iloc[:, -1].copy()\n",
        "\n",
        "X_train_3.iloc[:, 0:1] = (X_train_3.iloc[:, 0:1] ** 1.5).copy()\n",
        "X_train_3.iloc[:, 1:2] = (X_train_3.iloc[:, 1:2] ** 1.5).copy()\n",
        "X_train_3.iloc[:, 2:3] = (X_train_3.iloc[:, 2:3] ** 0.25).copy()\n",
        "X_train_3.iloc[:, 3:4] = ((X_train_3.iloc[:, 3:4] * 10) ** 2.5).copy()\n",
        "\n",
        "rg_3_3 = LinearRegression()\n",
        "scores_3_3 = cross_val_score(rg_3_3, X_train_3, y_train_3, cv=5, scoring='neg_mean_squared_error')\n",
        "# print(\"Average RMSE: \", np.sqrt(-scores_3_3).mean())\n",
        "ARMSE.append(np.sqrt(np.absolute(scores_3_3)).mean())"
      ],
      "metadata": {
        "id": "eIqHE95T0xZx"
      },
      "execution_count": 81,
      "outputs": []
    },
    {
      "cell_type": "code",
      "execution_count": null,
      "metadata": {
        "id": "FXUvdXGEHmkV"
      },
      "outputs": [],
      "source": [
        "Average_RMSE = pd.DataFrame({'Model': model, 'Average RMSE': ARMSE})\n",
        "print(Average_RMSE)"
      ]
    },
    {
      "cell_type": "code",
      "execution_count": null,
      "metadata": {
        "id": "0AO_6X_pHmkV"
      },
      "outputs": [],
      "source": [
        "# Huấn luyện lại mô hình my_best_model trên toàn bộ tập huấn luyện\n",
        "train3 = pd.read_csv('train.csv')\n",
        "test3 = pd.read_csv('test.csv')\n",
        "\n",
        "feature = ['Adult Mortality', 'BMI', 'HIV/AIDS', 'Income composition of resources']\n",
        "X_train_best_model = train3[feature].copy()\n",
        "X_test_best_model = test3[feature].copy()\n",
        "\n",
        "X_train_best_model.iloc[:, 0:1] = (X_train_best_model.iloc[:, 0:1] ** 1.5).copy()\n",
        "X_train_best_model.iloc[:, 1:2] = (X_train_best_model.iloc[:, 1:2] ** 1.5).copy()\n",
        "X_train_best_model.iloc[:, 2:3] = (X_train_best_model.iloc[:, 2:3] ** 0.25).copy()\n",
        "X_train_best_model.iloc[:, 3:4] = ((X_train_best_model.iloc[:, 3:4] * 10) ** 2.5).copy()\n",
        "\n",
        "X_test_best_model.iloc[:, 0:1] = (X_test_best_model.iloc[:, 0:1] ** 1.5).copy()\n",
        "X_test_best_model.iloc[:, 1:2] = (X_test_best_model.iloc[:, 1:2] ** 1.5).copy()\n",
        "X_test_best_model.iloc[:, 2:3] = (X_test_best_model.iloc[:, 2:3] ** 0.25).copy()\n",
        "X_test_best_model.iloc[:, 3:4] = ((X_test_best_model.iloc[:, 3:4] * 10) ** 2.5).copy()\n",
        "\n",
        "reg3 = LinearRegression().fit(X_train_best_model, train.iloc[:, -1])\n",
        "\n",
        "y_test_best_model_pred = reg3.predict(X_test_best_model)\n",
        "prediction_best_model = pd.DataFrame({'Actual': test3.iloc[:, -1], 'Predicted': y_test_best_model_pred})\n",
        "print(prediction_best_model)\n",
        "\n",
        "coef_best_model = pd.DataFrame({'Coefficient': X_test_best_model.columns, 'Predicted': reg3.coef_})\n",
        "print(coef_best_model)"
      ]
    },
    {
      "cell_type": "code",
      "execution_count": null,
      "metadata": {
        "id": "8ayKsrALHmkW"
      },
      "outputs": [],
      "source": [
        "# Gọi hàm RMSE (tự cài đặt hoặc từ thư viện) trên tập kiểm tra với mô hình my_best_model\n",
        "print(\"RMSE: \", math.sqrt(mean_squared_error(test3.iloc[:, -1], y_test_best_model_pred)))"
      ]
    },
    {
      "cell_type": "markdown",
      "metadata": {
        "id": "7bhAKkCGHmkX"
      },
      "source": [
        "Công thức hồi quy\n",
        "\n",
        "$$\\text{Life expectancy} = - 0.000660.Adult{\\rm{ }}Mortality + 0.004581.BMI +  - 6.763862.HIV/AIDS + 0.070603.Income{\\rm{ }}composition{\\rm{ }}of{\\rm{ }}resources$$\n"
      ]
    }
  ],
  "metadata": {
    "kernelspec": {
      "display_name": "Python 3.8.5 ('base')",
      "language": "python",
      "name": "python3"
    },
    "language_info": {
      "codemirror_mode": {
        "name": "ipython",
        "version": 3
      },
      "file_extension": ".py",
      "mimetype": "text/x-python",
      "name": "python",
      "nbconvert_exporter": "python",
      "pygments_lexer": "ipython3",
      "version": "3.8.5"
    },
    "orig_nbformat": 4,
    "vscode": {
      "interpreter": {
        "hash": "15af99fd1a1a3f0a3416ea421564e792a8676a13670c2eed127d89ab0518a27b"
      }
    },
    "colab": {
      "name": "20127479.ipynb",
      "provenance": [],
      "collapsed_sections": [
        "KsRvuIIqHmkK",
        "D3wwhB5wHmkN",
        "8_51WOIJHmkQ",
        "1PpIiaUpHmkU",
        "G8cX66uiwZlV",
        "e5x-sFPvQEME",
        "LT_7A0kYvkev",
        "zDzSFkZbw4OU",
        "4zS-itXcYyEp",
        "YbAH5BQEzvcu"
      ]
    }
  },
  "nbformat": 4,
  "nbformat_minor": 0
}